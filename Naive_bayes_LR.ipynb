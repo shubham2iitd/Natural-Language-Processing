{
 "metadata": {
  "name": ""
 },
 "nbformat": 3,
 "nbformat_minor": 0,
 "worksheets": [
  {
   "cells": [
    {
     "cell_type": "code",
     "collapsed": false,
     "input": [
      "import pandas as pd\n",
      "import nltk\n",
      "import numpy as np\n",
      "from datetime import datetime\n",
      "from collections import defaultdict\n",
      "import operator\n"
     ],
     "language": "python",
     "metadata": {},
     "outputs": [],
     "prompt_number": 1
    },
    {
     "cell_type": "code",
     "collapsed": false,
     "input": [
      "pd.set_option('display.height', 300)\n",
      "pd.set_option('display.max_rows', 500)\n",
      "pd.set_option('display.max_columns', 50)\n",
      "pd.set_option('display.width', 200)"
     ],
     "language": "python",
     "metadata": {},
     "outputs": [],
     "prompt_number": 2
    },
    {
     "cell_type": "code",
     "collapsed": false,
     "input": [
      "import collections\n",
      "import nltk.metrics"
     ],
     "language": "python",
     "metadata": {},
     "outputs": [],
     "prompt_number": 3
    },
    {
     "cell_type": "code",
     "collapsed": false,
     "input": [
      "import nltk\n",
      "import string\n",
      "import os\n",
      "from nltk.stem.porter import PorterStemmer\n",
      "from nltk.stem.wordnet import WordNetLemmatizer\n",
      "from nltk.corpus import stopwords\n",
      "\n",
      "import unicodedata\n",
      "\n",
      "def unaccent( text ):\n",
      "    s = unicodedata.normalize( 'NFKD', text )\n",
      "    s = ''.join( c for c in s if ord( c ) < 127 )\n",
      "    return s\n",
      "\n",
      "stemmer = PorterStemmer()\n",
      "lmtzr = WordNetLemmatizer()"
     ],
     "language": "python",
     "metadata": {},
     "outputs": [],
     "prompt_number": 4
    },
    {
     "cell_type": "code",
     "collapsed": false,
     "input": [
      "def stem_tokens(tokens, stemmer):\n",
      "    stemmed = []\n",
      "    for item in tokens:\n",
      "        stemmed.append(stemmer.stem(item))\n",
      "    return stemmed\n",
      "\n",
      "def lemma_tokens(tokens, lmtzr):\n",
      "    lemma_lst = []\n",
      "    for item in tokens:\n",
      "        lemma_lst.append(lmtzr.lemmatize(item))\n",
      "    return lemma_lst\n",
      "\n",
      "def stem_tokens(tokens, stemmer):\n",
      "    stemmed = []\n",
      "    for item in tokens:\n",
      "        stemmed.append(stemmer.stem(item))\n",
      "    return stemmed\n",
      "\n",
      "def tokenize(text):\n",
      "    tokens = nltk.word_tokenize(text)\n",
      "    filtered_tokens = [w for w in tokens if not w in stopwords.words('english')]\n",
      "    \n",
      "    stemmed_tokens = stem_tokens(filtered_tokens, stemmer)\n",
      "#    lemmatised_tokens = lemma_tokens(filtered_tokens, lmtzr)\n",
      "\n",
      "    return stemmed_tokens\n",
      "#    return lemmatised_tokens\n",
      "#    return filtered_tokens"
     ],
     "language": "python",
     "metadata": {},
     "outputs": [],
     "prompt_number": 5
    },
    {
     "cell_type": "code",
     "collapsed": false,
     "input": [
      "tokenize(\"sgfdf text\")"
     ],
     "language": "python",
     "metadata": {},
     "outputs": [
      {
       "metadata": {},
       "output_type": "pyout",
       "prompt_number": 6,
       "text": [
        "['sgfdf', 'text']"
       ]
      }
     ],
     "prompt_number": 6
    },
    {
     "cell_type": "code",
     "collapsed": false,
     "input": [
      "import unicodedata\n",
      "\n",
      "def unaccent( text ):\n",
      "    s = unicodedata.normalize( 'NFKD', text )\n",
      "    s = ''.join( c for c in s if ord( c ) < 127 )\n",
      "    return s"
     ],
     "language": "python",
     "metadata": {},
     "outputs": [],
     "prompt_number": 7
    },
    {
     "cell_type": "code",
     "collapsed": false,
     "input": [
      "from __future__ import division\n",
      "import random\n",
      "from random import sample\n",
      "import operator"
     ],
     "language": "python",
     "metadata": {},
     "outputs": [],
     "prompt_number": 8
    },
    {
     "cell_type": "code",
     "collapsed": false,
     "input": [
      "DF = pd.read_csv(\"C:\\Users\\shubham.akshat\\Desktop\\BODM/TELEGRAPH__RMA__BODM_v2_truncated.txt\", sep = \"\\t\")\n",
      "DF[\"free_text\"] = DF.PROBLEM_DESCRIPTION.str.lower()"
     ],
     "language": "python",
     "metadata": {},
     "outputs": [],
     "prompt_number": 9
    },
    {
     "cell_type": "code",
     "collapsed": false,
     "input": [
      "DF = DF[DF[\"HDX_CODEC\"] == True]\n",
      "DF = DF[DF[\"TESTED\"] == True]\n",
      "DF[\"is_train\"] = np.random.randint(100, size = len(DF)) <=70\n",
      "\n",
      "#DF = DF[pd.notnull(DF['CTH_DEFECT_DESCRIPTION'])]\n",
      "DF.index = range(len(DF))\n",
      "df1_full = DF\n",
      "\n",
      "df1_tr = DF[DF[\"is_train\"] == True]\n",
      "df1_tr.index = range(len(df1_tr))\n",
      "\n",
      "#df1_tr[\"flag_NDF\"] = df1_tr.CTH_DEFECT_DESCRIPTION.str.lower()\n",
      "#for i in range(len(df1_tr)):\n",
      "#    if str(df1_tr[\"CTH_DEFECT_DESCRIPTION\"][i]) == \"NDF\":\n",
      "#        \n",
      "#        df1_tr[\"flag_NDF\"][i] = \"NDF\"\n",
      "#    else:\n",
      "#        df1_tr[\"flag_NDF\"][i] = \"no_NDF\"\n",
      "print len(df1_tr)\n",
      "\n",
      "df1_tst = DF[DF[\"is_train\"] == False]\n",
      "df1_tst.index = range(len(df1_tst))\n",
      "\n",
      "#df1_tst[\"flag_NDF\"] = df1_tst.CTH_DEFECT_DESCRIPTION.str.lower()\n",
      "#for i in range(len(df1_tst)):\n",
      "#    if str(df1_tst[\"CTH_DEFECT_DESCRIPTION\"][i]) == \"NDF\":\n",
      "#        \n",
      "#        df1_tst[\"flag_NDF\"][i] = \"NDF\"\n",
      "#    else:\n",
      "#        df1_tst[\"flag_NDF\"][i] = \"no_NDF\"\n",
      "print len(df1_tst)\n",
      "\n",
      "# df1_full[\"flag_NDF\"] = df1_full.CTH_DEFECT_DESCRIPTION.str.lower()\n",
      "# for i in range(len(df1_full)):\n",
      "#     if str(df1_full[\"CTH_DEFECT_DESCRIPTION\"][i]) == \"NDF\":\n",
      "        \n",
      "#         df1_full[\"flag_NDF\"][i] = \"NDF\"\n",
      "#     else:\n",
      "#         df1_full[\"flag_NDF\"][i] = \"no_NDF\"\n",
      "# print len(df1_full)\n"
     ],
     "language": "python",
     "metadata": {},
     "outputs": [
      {
       "output_type": "stream",
       "stream": "stdout",
       "text": [
        "17257\n",
        "7206\n"
       ]
      }
     ],
     "prompt_number": 10
    },
    {
     "cell_type": "code",
     "collapsed": false,
     "input": [
      "replace_punctuation = string.maketrans(string.punctuation, ' '*len(string.punctuation))\n",
      "for i in range(len(df1_tr)):\n",
      "    df1_tr[\"free_text\"][i] = str(df1_tr[\"free_text\"][i]).translate(replace_punctuation)\n",
      "    df1_tr[\"free_text\"][i] = df1_tr[\"free_text\"][i].decode('utf-8','ignore')\n",
      "    df1_tr[\"free_text\"][i] = unaccent(df1_tr[\"free_text\"][i])"
     ],
     "language": "python",
     "metadata": {},
     "outputs": [],
     "prompt_number": 11
    },
    {
     "cell_type": "code",
     "collapsed": false,
     "input": [
      "replace_punctuation = string.maketrans(string.punctuation, ' '*len(string.punctuation))\n",
      "for i in range(len(df1_tst)):\n",
      "    df1_tst[\"free_text\"][i] = str(df1_tst[\"free_text\"][i]).translate(replace_punctuation)\n",
      "    df1_tst[\"free_text\"][i] = df1_tst[\"free_text\"][i].decode('utf-8','ignore')\n",
      "    df1_tst[\"free_text\"][i] = unaccent(df1_tst[\"free_text\"][i])"
     ],
     "language": "python",
     "metadata": {},
     "outputs": [],
     "prompt_number": 12
    },
    {
     "cell_type": "code",
     "collapsed": false,
     "input": [
      "replace_punctuation = string.maketrans(string.punctuation, ' '*len(string.punctuation))\n",
      "for i in range(len(df1_full)):\n",
      "    df1_full[\"free_text\"][i] = str(df1_full[\"free_text\"][i]).translate(replace_punctuation)\n",
      "    df1_full[\"free_text\"][i] = df1_full[\"free_text\"][i].decode('utf-8','ignore')\n",
      "    df1_full[\"free_text\"][i] = unaccent(df1_full[\"free_text\"][i])\n"
     ],
     "language": "python",
     "metadata": {},
     "outputs": [],
     "prompt_number": 13
    },
    {
     "cell_type": "code",
     "collapsed": false,
     "input": [
      "from pandas import DataFrame\n",
      "data_frame1 = DataFrame({'text': [], 'class': []})\n",
      "\n",
      "for i in range(len(df1_tr)):\n",
      "    data_frame1 = data_frame1.append(DataFrame({'text': [df1_tr[\"free_text\"][i]], 'class': [df1_tr[\"NDF\"][i]]}))\n",
      "data_frame1.index = range(len(data_frame1))"
     ],
     "language": "python",
     "metadata": {},
     "outputs": [],
     "prompt_number": 14
    },
    {
     "cell_type": "code",
     "collapsed": false,
     "input": [
      "\n",
      "data_frame2 = DataFrame({'text': [], 'class': []})\n",
      "\n",
      "for i in range(len(df1_tst)):\n",
      "    data_frame2 = data_frame2.append(DataFrame({'text': [df1_tst[\"free_text\"][i]], 'class': [df1_tst[\"NDF\"][i]]}))\n",
      "data_frame2.index = range(len(data_frame2))\n"
     ],
     "language": "python",
     "metadata": {},
     "outputs": [],
     "prompt_number": 15
    },
    {
     "cell_type": "code",
     "collapsed": false,
     "input": [
      "\n",
      "data_frame3 = DataFrame({'text': [], 'class': []})\n",
      "\n",
      "for i in range(len(df1_full)):\n",
      "    data_frame3 = data_frame3.append(DataFrame({'text': [df1_full[\"free_text\"][i]], 'class': [df1_full[\"NDF\"][i]]}))\n",
      "data_frame3.index = range(len(data_frame3))\n"
     ],
     "language": "python",
     "metadata": {},
     "outputs": [],
     "prompt_number": 16
    },
    {
     "cell_type": "code",
     "collapsed": false,
     "input": [
      "df1_tr[\"NDF\"].value_counts()"
     ],
     "language": "python",
     "metadata": {},
     "outputs": [
      {
       "metadata": {},
       "output_type": "pyout",
       "prompt_number": 17,
       "text": [
        "False    10586\n",
        "True      6671\n",
        "dtype: int64"
       ]
      }
     ],
     "prompt_number": 17
    },
    {
     "cell_type": "code",
     "collapsed": false,
     "input": [
      "import numpy\n",
      "from sklearn.feature_extraction.text import CountVectorizer, TfidfTransformer, TfidfVectorizer\n",
      "\n",
      "tv = TfidfVectorizer(ngram_range=(1, 2))\n",
      "counts = tv.fit_transform(numpy.asarray(data_frame1['text']))"
     ],
     "language": "python",
     "metadata": {},
     "outputs": [],
     "prompt_number": 18
    },
    {
     "cell_type": "code",
     "collapsed": false,
     "input": [
      "from sklearn.naive_bayes import MultinomialNB\n",
      "\n",
      "classifier = MultinomialNB()\n",
      "targets = numpy.asarray(data_frame1['class'], dtype=\"|S600\")\n",
      "\n",
      "classifier.fit(counts, targets)"
     ],
     "language": "python",
     "metadata": {},
     "outputs": [
      {
       "metadata": {},
       "output_type": "pyout",
       "prompt_number": 19,
       "text": [
        "MultinomialNB(alpha=1.0, class_prior=None, fit_prior=True)"
       ]
      }
     ],
     "prompt_number": 19
    },
    {
     "cell_type": "code",
     "collapsed": false,
     "input": [
      "# from sklearn.pipeline import Pipeline\n",
      "# from sklearn.feature_extraction.text import TfidfTransformer\n",
      "# from sklearn.svm import NuSVC\n",
      "# from sklearn.svm import SVC\n",
      "\n",
      "# pipeline = Pipeline([\n",
      "#   ('vectorizer',  CountVectorizer(ngram_range=(1, 2))),\n",
      "# #  ('tfidf_transformer',  TfidfTransformer()),\n",
      "#   ('classifier',  MultinomialNB()) ])\n",
      "\n",
      "# pipeline.fit_transform(numpy.asarray(data_frame3['text']), numpy.asarray(data_frame1['class'], dtype=\"|S600\"))"
     ],
     "language": "python",
     "metadata": {},
     "outputs": [],
     "prompt_number": 20
    },
    {
     "cell_type": "code",
     "collapsed": false,
     "input": [
      "# from sklearn.cross_validation import KFold\n",
      "\n",
      "# k_fold = KFold(n=len(data_frame1), n_folds=6, indices=False)\n",
      "# scores = []\n",
      "# for train_indices, test_indices in k_fold:\n",
      "#   train_text = numpy.asarray(data_frame1[train_indices]['text'])\n",
      "#   train_y    = numpy.asarray(data_frame1[train_indices]['class'], dtype=\"|S60\")\n",
      "\n",
      "#   test_text  = numpy.asarray(data_frame1[test_indices]['text'])\n",
      "#   test_y     = numpy.asarray(data_frame1[test_indices]['class'], dtype=\"|S60\")\n",
      "\n",
      "#   pipeline.fit(train_text, train_y)\n",
      "#   score = pipeline.score(test_text, test_y)\n",
      "#   scores.append(score)\n",
      "\n",
      "# score = sum(scores) / len(scores)\n",
      "# score"
     ],
     "language": "python",
     "metadata": {},
     "outputs": [],
     "prompt_number": 21
    },
    {
     "cell_type": "code",
     "collapsed": false,
     "input": [
      "data_frame3[\"prediction\"] = \"\""
     ],
     "language": "python",
     "metadata": {},
     "outputs": [],
     "prompt_number": 22
    },
    {
     "cell_type": "code",
     "collapsed": false,
     "input": [],
     "language": "python",
     "metadata": {},
     "outputs": [],
     "prompt_number": 22
    },
    {
     "cell_type": "code",
     "collapsed": false,
     "input": [],
     "language": "python",
     "metadata": {},
     "outputs": [],
     "prompt_number": 22
    },
    {
     "cell_type": "code",
     "collapsed": false,
     "input": [],
     "language": "python",
     "metadata": {},
     "outputs": [],
     "prompt_number": 231
    },
    {
     "cell_type": "code",
     "collapsed": false,
     "input": [
      "for i in range(len(data_frame3)):\n",
      "    input1 = data_frame3[\"text\"][i]\n",
      "    input2 = tv.transform([input1])\n",
      "    tuple1 = classifier.predict(input2)\n",
      "    tuple2 = max(classifier.predict_proba(input2)[0])\n",
      "    data_frame3[\"prediction\"][i] = (tuple1[0],tuple2)\n",
      "   # print data_frame3[\"prediction\"][i] \n",
      "\n"
     ],
     "language": "python",
     "metadata": {},
     "outputs": [],
     "prompt_number": 31
    },
    {
     "cell_type": "code",
     "collapsed": false,
     "input": [
      "df1_full[\"prediction\"] = data_frame3[\"prediction\"]\n",
      "df1_full = df1_full.astype(object).fillna(\"BLANK\")\n"
     ],
     "language": "python",
     "metadata": {},
     "outputs": [],
     "prompt_number": 32
    },
    {
     "cell_type": "code",
     "collapsed": false,
     "input": [
      "df1_full[\"prediction\"][9]"
     ],
     "language": "python",
     "metadata": {},
     "outputs": [
      {
       "metadata": {},
       "output_type": "pyout",
       "prompt_number": 33,
       "text": [
        "('False', 0.89211754258359366)"
       ]
      }
     ],
     "prompt_number": 33
    },
    {
     "cell_type": "code",
     "collapsed": false,
     "input": [],
     "language": "python",
     "metadata": {},
     "outputs": [],
     "prompt_number": 33
    },
    {
     "cell_type": "code",
     "collapsed": false,
     "input": [
      "df1_full_tr = df1_full[df1_full[\"is_train\"] == True]\n",
      "df1_full_tr = df1_full_tr.drop([\"prediction\",\"CTH_DEFECT_DESCRIPTION\",\"PROBLEM_DESCRIPTION\",\"free_text\", \"HDX_CODEC\", \"TESTED\"],1)\n",
      "df1_full_tst = df1_full[df1_full[\"is_train\"] != True]\n",
      "df1_full_tst = df1_full_tst.drop([\"prediction\",\"CTH_DEFECT_DESCRIPTION\",\"PROBLEM_DESCRIPTION\",\"free_text\", \"HDX_CODEC\", \"TESTED\"],1)\n",
      "\n",
      "df1_full_tr = df1_full_tr.drop([\"is_train\"],1)\n",
      "df1_full_tr.index = range(len(df1_full_tr))\n",
      "\n",
      "df1_full_tst = df1_full_tst.drop([\"is_train\"],1)\n",
      "df1_full_tst.index = range(len(df1_full_tst))\n",
      "\n",
      "\n",
      "df1_full_tr_x = df1_full_tr.drop([\"NDF\"],1)\n",
      "df1_full_tst_x = df1_full_tst.drop([\"NDF\"],1)\n"
     ],
     "language": "python",
     "metadata": {},
     "outputs": [],
     "prompt_number": 34
    },
    {
     "cell_type": "code",
     "collapsed": false,
     "input": [
      "df1_full_tr_x[\"val_pred\"] = \"\"\n",
      "for i in range(len(df1_full_tr_x)):\n",
      "    df1_full_tr_x[\"val_pred\"][i] = df1_full[\"prediction\"][i][0]\n",
      "\n",
      "df1_full_tst_x[\"val_pred\"] = \"\"\n",
      "for i in range(len(df1_full_tst_x)):\n",
      "    df1_full_tst_x[\"val_pred\"][i] = df1_full[\"prediction\"][i][0]\n"
     ],
     "language": "python",
     "metadata": {},
     "outputs": [],
     "prompt_number": 35
    },
    {
     "cell_type": "code",
     "collapsed": false,
     "input": [],
     "language": "python",
     "metadata": {},
     "outputs": [],
     "prompt_number": 35
    },
    {
     "cell_type": "code",
     "collapsed": false,
     "input": [
      "df1_full_tr_x[45:47]"
     ],
     "language": "python",
     "metadata": {},
     "outputs": [
      {
       "html": [
        "<div style=\"max-height:1000px;max-width:1500px;overflow:auto;\">\n",
        "<table border=\"1\" class=\"dataframe\">\n",
        "  <thead>\n",
        "    <tr style=\"text-align: right;\">\n",
        "      <th></th>\n",
        "      <th>COVERAGE_TYPE</th>\n",
        "      <th>RMA_TYPE</th>\n",
        "      <th>REASON_TYPE</th>\n",
        "      <th>GLOBAL_REGION</th>\n",
        "      <th>OWNER_GROUP</th>\n",
        "      <th>CREATED_BY</th>\n",
        "      <th>PROBLEM_TYPE</th>\n",
        "      <th>SYMPTOM_DESCRIPTION</th>\n",
        "      <th>PRODUCT_LINE</th>\n",
        "      <th>PARTNER</th>\n",
        "      <th>val_pred</th>\n",
        "    </tr>\n",
        "  </thead>\n",
        "  <tbody>\n",
        "    <tr>\n",
        "      <th>45</th>\n",
        "      <td> New Inst</td>\n",
        "      <td> 00 - Advance Exchange</td>\n",
        "      <td> Install DOA</td>\n",
        "      <td> APAC</td>\n",
        "      <td> APAC CC</td>\n",
        "      <td> WLAM</td>\n",
        "      <td> No Power</td>\n",
        "      <td>                   No Power On</td>\n",
        "      <td> HDX 7006</td>\n",
        "      <td> False</td>\n",
        "      <td> False</td>\n",
        "    </tr>\n",
        "    <tr>\n",
        "      <th>46</th>\n",
        "      <td> New Inst</td>\n",
        "      <td> 00 - Advance Exchange</td>\n",
        "      <td> Install DOA</td>\n",
        "      <td> APAC</td>\n",
        "      <td> APAC CC</td>\n",
        "      <td> WLAM</td>\n",
        "      <td>  Unknown</td>\n",
        "      <td> Other (Reason Notes Required)</td>\n",
        "      <td> HDX 8006</td>\n",
        "      <td> False</td>\n",
        "      <td> False</td>\n",
        "    </tr>\n",
        "  </tbody>\n",
        "</table>\n",
        "</div>"
       ],
       "metadata": {},
       "output_type": "pyout",
       "prompt_number": 36,
       "text": [
        "   COVERAGE_TYPE               RMA_TYPE  REASON_TYPE GLOBAL_REGION OWNER_GROUP CREATED_BY PROBLEM_TYPE            SYMPTOM_DESCRIPTION PRODUCT_LINE PARTNER val_pred\n",
        "45      New Inst  00 - Advance Exchange  Install DOA          APAC     APAC CC       WLAM     No Power                    No Power On     HDX 7006   False    False\n",
        "46      New Inst  00 - Advance Exchange  Install DOA          APAC     APAC CC       WLAM      Unknown  Other (Reason Notes Required)     HDX 8006   False    False"
       ]
      }
     ],
     "prompt_number": 36
    },
    {
     "cell_type": "code",
     "collapsed": false,
     "input": [
      "from sklearn.linear_model import LogisticRegression\n",
      "from sklearn.feature_extraction import DictVectorizer"
     ],
     "language": "python",
     "metadata": {},
     "outputs": [],
     "prompt_number": 37
    },
    {
     "cell_type": "code",
     "collapsed": false,
     "input": [
      "dv = DictVectorizer()\n",
      "dv.fit(df1_full_tr.T.to_dict().values())"
     ],
     "language": "python",
     "metadata": {},
     "outputs": [
      {
       "metadata": {},
       "output_type": "pyout",
       "prompt_number": 38,
       "text": [
        "DictVectorizer(dtype=<type 'numpy.float64'>, separator='=', sparse=True)"
       ]
      }
     ],
     "prompt_number": 38
    },
    {
     "cell_type": "code",
     "collapsed": false,
     "input": [
      "s = dv.transform(df1_full_tr_x.T.to_dict().values())\n",
      "type(s)"
     ],
     "language": "python",
     "metadata": {},
     "outputs": [
      {
       "metadata": {},
       "output_type": "pyout",
       "prompt_number": 39,
       "text": [
        "scipy.sparse.csr.csr_matrix"
       ]
      }
     ],
     "prompt_number": 39
    },
    {
     "cell_type": "code",
     "collapsed": false,
     "input": [
      "# for i in range(len(df1_full_tr)):\n",
      "#     #print df1_full_tr[\"flag_NDF\"][i]\n",
      "#     if df1_full_tr[\"flag_NDF\"][i] == \"NDF\":\n",
      "#         df1_full_tr[\"flag_NDF\"][i] = 0\n",
      "#         #print \"t\"\n",
      "#     elif df1_full_tr[\"flag_NDF\"][i] == \"no_NDF\":\n",
      "#         df1_full_tr[\"flag_NDF\"][i] = 1\n",
      "#     else:\n",
      "#         print \"t\"\n",
      "\n",
      "# #"
     ],
     "language": "python",
     "metadata": {},
     "outputs": [],
     "prompt_number": 40
    },
    {
     "cell_type": "code",
     "collapsed": false,
     "input": [
      "# df1_full_tr[\"flag_NDF\"].astype(float)\n",
      "# print type(df1_full_tr.flag_NDF.values)"
     ],
     "language": "python",
     "metadata": {},
     "outputs": [],
     "prompt_number": 41
    },
    {
     "cell_type": "code",
     "collapsed": false,
     "input": [
      "LR = LogisticRegression().fit(s, df1_full_tr.NDF)"
     ],
     "language": "python",
     "metadata": {},
     "outputs": [],
     "prompt_number": 42
    },
    {
     "cell_type": "code",
     "collapsed": false,
     "input": [
      "#' + '.join([format(LR.intercept_[0], '0.2f')] + map(lambda (f,c): \"(%0.2f %s)\" % (c, f), zip(dv.feature_names_, LR.coef_[0])))"
     ],
     "language": "python",
     "metadata": {},
     "outputs": [],
     "prompt_number": 43
    },
    {
     "cell_type": "code",
     "collapsed": false,
     "input": [
      "print \"Total number of input features:: \" + \"\\t\",len(LR.coef_[0])\n",
      "coeffs = pd.Series(LR.coef_[0].copy(), index = dv.feature_names_)\n",
      "coeffs.sort()\n",
      "print coeffs"
     ],
     "language": "python",
     "metadata": {},
     "outputs": [
      {
       "output_type": "stream",
       "stream": "stdout",
       "text": [
        "Total number of input features:: \t449\n",
        "COVERAGE_TYPE=REM                                    -1.464714\n",
        "CREATED_BY=ANAKARMI                                  -1.385126\n",
        "CREATED_BY=THAMBLIN                                  -1.199638\n",
        "SYMPTOM_DESCRIPTION=No Power On                      -1.106779\n",
        "CREATED_BY=KLOCKE                                    -0.992683\n",
        "PRODUCT_LINE=HDX 9002                                -0.987542\n",
        "CREATED_BY=KBROU                                     -0.973446\n",
        "CREATED_BY=ANDIAZ                                    -0.865448\n",
        "PROBLEM_TYPE=Connection (not connect, or dr          -0.845571\n",
        "SYMPTOM_DESCRIPTION=System Freeze/Crash              -0.845542\n",
        "PRODUCT_LINE=HDX 9004                                -0.845131\n",
        "PROBLEM_TYPE=Product error message or alarm          -0.838928\n",
        "CREATED_BY=DCHUA                                     -0.835964\n",
        "CREATED_BY=JCORTES                                   -0.774450\n",
        "SYMPTOM_DESCRIPTION=Software Failure / Upgrade       -0.763940\n",
        "CREATED_BY=ASTEPHANOW                                -0.756113\n",
        "CREATED_BY=TMICHEL                                   -0.747799\n",
        "CREATED_BY=NKHOO                                     -0.744719\n",
        "CREATED_BY=CLEBLANC                                  -0.718496\n",
        "CREATED_BY=DHADDEJ                                   -0.716764\n",
        "CREATED_BY=DREGO                                     -0.702991\n",
        "CREATED_BY=CWHITCOMB                                 -0.688297\n",
        "CREATED_BY=WTAN                                      -0.659188\n",
        "CREATED_BY=KMARSEILLES                               -0.654414\n",
        "PROBLEM_TYPE=Issue during/after software up          -0.641995\n",
        "CREATED_BY=HGHAZALI                                  -0.638347\n",
        "PROBLEM_TYPE=Hardware failure or no respons          -0.627445\n",
        "PROBLEM_TYPE=Security Scan                           -0.624444\n",
        "CREATED_BY=JPETERS                                   -0.615730\n",
        "PROBLEM_TYPE=API related issue                       -0.609964\n",
        "CREATED_BY=DMARTINEZ                                 -0.605855\n",
        "CREATED_BY=DMAKI                                     -0.599992\n",
        "PRODUCT_LINE=HDX 9001                                -0.590223\n",
        "CREATED_BY=CHOPKINS                                  -0.584612\n",
        "CREATED_BY=RGAUTIER                                  -0.583832\n",
        "CREATED_BY=SSALAVIN                                  -0.582077\n",
        "OWNER_GROUP=NALA CC                                  -0.577103\n",
        "CREATED_BY=TKNG                                      -0.572378\n",
        "CREATED_BY=MINGRAM                                   -0.565359\n",
        "CREATED_BY=DSMART                                    -0.556119\n",
        "OWNER_GROUP=APAC Telepresence                        -0.553447\n",
        "CREATED_BY=LMEEK                                     -0.552076\n",
        "PROBLEM_TYPE=Immersive experience tuning             -0.547495\n",
        "PROBLEM_TYPE=None                                    -0.541369\n",
        "CREATED_BY=DONOVAND                                  -0.539278\n",
        "CREATED_BY=BLEVESCONTE                               -0.536595\n",
        "CREATED_BY=PENNOCKJ                                  -0.516089\n",
        "CREATED_BY=WGONZALEZ                                 -0.514217\n",
        "PRODUCT_LINE=HDX 4001                                -0.511919\n",
        "PROBLEM_TYPE=System Freeze/Crash                     -0.511326\n",
        "PROBLEM_TYPE=Compatability - PLCM                    -0.509564\n",
        "SYMPTOM_DESCRIPTION=Software Assert / Exception      -0.505982\n",
        "CREATED_BY=KIWONG                                    -0.499865\n",
        "PROBLEM_TYPE=Security scan response                  -0.492628\n",
        "CREATED_BY=JMCALLISTER                               -0.487368\n",
        "OWNER_GROUP=PLCM CMC                                 -0.483042\n",
        "PROBLEM_TYPE=Can't Connect/Intermittent Con          -0.481192\n",
        "CREATED_BY=QYAN                                      -0.478335\n",
        "OWNER_GROUP=NALA Iformata                            -0.470831\n",
        "CREATED_BY=MOLAGUER                                  -0.468395\n",
        "CREATED_BY=SABIDIN                                   -0.463134\n",
        "PROBLEM_TYPE=IP Issue                                -0.463080\n",
        "CREATED_BY=AHEWSON                                   -0.460704\n",
        "SYMPTOM_DESCRIPTION=No Display / Bad Monitor         -0.460563\n",
        "CREATED_BY=HULIU                                     -0.449758\n",
        "CREATED_BY=MCHENG                                    -0.448938\n",
        "CREATED_BY=WFAO                                      -0.432969\n",
        "CREATED_BY=KSINGH                                    -0.431953\n",
        "PROBLEM_TYPE=Will Not Boot/Reboots                   -0.428209\n",
        "CREATED_BY=ACHARCENKO                                -0.420580\n",
        "CREATED_BY=RGALINDO                                  -0.419951\n",
        "CREATED_BY=ADARSHAAN                                 -0.419540\n",
        "OWNER_GROUP=BLANK                                    -0.418343\n",
        "PARTNER                                              -0.418343\n",
        "CREATED_BY=JOTHOMAS                                  -0.412336\n",
        "OWNER_GROUP=EMEA Service Delivery                    -0.411803\n",
        "CREATED_BY=AWYLES                                    -0.411803\n",
        "CREATED_BY=WLAM                                      -0.411004\n",
        "OWNER_GROUP=Network TSC                              -0.403498\n",
        "CREATED_BY=AIVANINOKS                                -0.400082\n",
        "CREATED_BY=SWZHANG                                   -0.393728\n",
        "CREATED_BY=LTRIGO                                    -0.391119\n",
        "OWNER_GROUP=Demo Support Group                       -0.387313\n",
        "CREATED_BY=WHMOK                                     -0.386814\n",
        "CREATED_BY=YYYU                                      -0.382805\n",
        "CREATED_BY=XDLIU                                     -0.377519\n",
        "CREATED_BY=STHULASIDAS                               -0.377221\n",
        "CREATED_BY=SSMITH                                    -0.373499\n",
        "PROBLEM_TYPE=PROJECTOR: COLOR                        -0.364592\n",
        "PROBLEM_TYPE=Mobile client issue                     -0.363311\n",
        "CREATED_BY=MCARVALHO                                 -0.362654\n",
        "CREATED_BY=RGUENTHER                                 -0.352969\n",
        "COVERAGE_TYPE=OW30                                   -0.349230\n",
        "CREATED_BY=SOH                                       -0.340229\n",
        "SYMPTOM_DESCRIPTION=Output issue / Bad output port   -0.330671\n",
        "CREATED_BY=ASARANG                                   -0.327770\n",
        "CREATED_BY=MZUNIGA                                   -0.326398\n",
        "CREATED_BY=LNBAO                                     -0.312532\n",
        "CREATED_BY=JSU                                       -0.308032\n",
        "CREATED_BY=LIAZHANG                                  -0.304067\n",
        "PROBLEM_TYPE=VIDEO: NEAR/FAR QUALITY                 -0.303383\n",
        "PROBLEM_TYPE=Interoperability w/3rd party            -0.302317\n",
        "PROBLEM_TYPE=Issue during/after upgrade              -0.299306\n",
        "PROBLEM_TYPE=Hardware fail or no response            -0.295565\n",
        "CREATED_BY=PKARATAEV                                 -0.294309\n",
        "PROBLEM_TYPE=Product will stop responding            -0.293084\n",
        "PROBLEM_TYPE=PROJECTOR: HDW FAILURE                  -0.291179\n",
        "CREATED_BY=MTHOMAS                                   -0.289533\n",
        "CREATED_BY=KHILLERT                                  -0.286109\n",
        "CREATED_BY=AHAMPSON                                  -0.282374\n",
        "CREATED_BY=BLEWIS                                    -0.280971\n",
        "CREATED_BY=ABURKERT                                  -0.279662\n",
        "CREATED_BY=CHGAO                                     -0.273433\n",
        "CREATED_BY=LDEMONTE                                  -0.271711\n",
        "PROBLEM_TYPE=Base Unit Failure                       -0.268531\n",
        "CREATED_BY=GHOWELL                                   -0.260347\n",
        "REASON_TYPE=Install DOA                              -0.259188\n",
        "CREATED_BY=YFCHENG                                   -0.259092\n",
        "PROBLEM_TYPE=CRESTRON: TOUCH PANEL ISSUE             -0.258830\n",
        "CREATED_BY=MFRUHWIRTH                                -0.258428\n",
        "SYMPTOM_DESCRIPTION=Reboots                          -0.252961\n",
        "CREATED_BY=SLEONTARITIS                              -0.252470\n",
        "GLOBAL_REGION=APAC                                   -0.251242\n",
        "CREATED_BY=RSCHMERTZLER                              -0.250023\n",
        "CREATED_BY=PACOSTA                                   -0.246515\n",
        "CREATED_BY=RKUMAR                                    -0.242569\n",
        "CREATED_BY=HULI                                      -0.238300\n",
        "CREATED_BY=SLAKHANI                                  -0.238205\n",
        "PROBLEM_TYPE=Near/Far Audio Issue                    -0.236517\n",
        "CREATED_BY=PMIAO                                     -0.233732\n",
        "CREATED_BY=SLLI                                      -0.233732\n",
        "CREATED_BY=NSHEIKH                                   -0.231578\n",
        "COVERAGE_TYPE=OOW10                                  -0.231127\n",
        "OWNER_GROUP=Endpoint TSC                             -0.231012\n",
        "SYMPTOM_DESCRIPTION=Other (Reason Notes Required)    -0.224709\n",
        "CREATED_BY=KLENG                                     -0.223389\n",
        "OWNER_GROUP=EMEA TSC                                 -0.221269\n",
        "CREATED_BY=VSYLVESTER                                -0.219446\n",
        "CREATED_BY=GCREPIN                                   -0.217031\n",
        "COVERAGE_TYPE=HWORR10                                -0.216787\n",
        "CREATED_BY=GLDAVIS                                   -0.215930\n",
        "REASON_TYPE=RMA DOA                                  -0.214105\n",
        "CREATED_BY=HPUTTUR                                   -0.213996\n",
        "CREATED_BY=HJULIAO                                   -0.213184\n",
        "SYMPTOM_DESCRIPTION=LED Display Failure              -0.211352\n",
        "CREATED_BY=BPHEARSON                                 -0.207613\n",
        "PROBLEM_TYPE=Content                                 -0.206941\n",
        "CREATED_BY=FELEMBE                                   -0.201580\n",
        "PROBLEM_TYPE=Install/Upgrade Failure                 -0.198736\n",
        "CREATED_BY=MSAUNDERS                                 -0.196610\n",
        "CREATED_BY=AFARINA                                   -0.195032\n",
        "PROBLEM_TYPE=Hardware Issue                          -0.186429\n",
        "REASON_TYPE=Ship Damage                              -0.185890\n",
        "CREATED_BY=TWILLIAMS                                 -0.184845\n",
        "CREATED_BY=EKEMPA                                    -0.183525\n",
        "PROBLEM_TYPE=TPX DISPLAY MONITOR ISSUE               -0.179402\n",
        "GLOBAL_REGION=BLANK                                  -0.177824\n",
        "CREATED_BY=JERODRIGUEZ                               -0.174240\n",
        "SYMPTOM_DESCRIPTION=TI Chip                          -0.172047\n",
        "CREATED_BY=JBALDWIN                                  -0.171552\n",
        "PROBLEM_TYPE=CAMERA: COLOR                           -0.171225\n",
        "CREATED_BY=NKELLEY                                   -0.169328\n",
        "OWNER_GROUP=NALA Glowpoint                           -0.166983\n",
        "PRODUCT_LINE=HDX 6000                                -0.166889\n",
        "CREATED_BY=BKELLNER                                  -0.166195\n",
        "CREATED_BY=XIGAO                                     -0.164596\n",
        "PROBLEM_TYPE=HDX CODEC: SOFTWARE ISSUE               -0.162134\n",
        "CREATED_BY=PLCMPORTAL                                -0.160764\n",
        "PRODUCT_LINE=HDX 7002                                -0.160004\n",
        "SYMPTOM_DESCRIPTION=Unknown                          -0.156487\n",
        "PROBLEM_TYPE=No Power                                -0.155501\n",
        "RMA_TYPE=02 - Return&Replace                         -0.152808\n",
        "PRODUCT_LINE=HDX 7001                                -0.152310\n",
        "PROBLEM_TYPE=BLANK                                   -0.150251\n",
        "CREATED_BY=JLAW                                      -0.148312\n",
        "SYMPTOM_DESCRIPTION=Poor Video Quality               -0.145265\n",
        "PROBLEM_TYPE=System Freeze/Crash/Reboot              -0.139683\n",
        "OWNER_GROUP=NALA - FSE RTS                           -0.139103\n",
        "CREATED_BY=TSANTOS                                   -0.136729\n",
        "PROBLEM_TYPE=Installation                            -0.136055\n",
        "SYMPTOM_DESCRIPTION=Physical damage                  -0.133229\n",
        "CREATED_BY=BSRINIVASAN                               -0.132304\n",
        "OWNER_GROUP=NALA FSE West                            -0.131441\n",
        "CREATED_BY=NBENOIT                                   -0.131176\n",
        "PROBLEM_TYPE=CFS/License Issue                       -0.130921\n",
        "PROBLEM_TYPE=Camera                                  -0.127028\n",
        "REASON_TYPE=Channel Req                              -0.125580\n",
        "CREATED_BY=NVARGA                                    -0.122138\n",
        "CREATED_BY=WGRIFFIN                                  -0.120170\n",
        "CREATED_BY=JCARILLO                                  -0.118738\n",
        "OWNER_GROUP=EMEA CC                                  -0.117449\n",
        "COVERAGE_TYPE=OWEE                                   -0.116270\n",
        "CREATED_BY=JPOHLY                                    -0.116199\n",
        "COVERAGE_TYPE=SSN-OOW                                -0.108159\n",
        "CREATED_BY=DDOWLING                                  -0.099746\n",
        "PROBLEM_TYPE=IP Network Issue                        -0.097280\n",
        "REASON_TYPE=Hardware fail                            -0.092444\n",
        "COVERAGE_TYPE=CS- E Exch                             -0.090761\n",
        "PROBLEM_TYPE=ISDN Issue                              -0.087390\n",
        "COVERAGE_TYPE=OOW3                                   -0.083755\n",
        "PROBLEM_TYPE=Device reporting                        -0.081529\n",
        "CREATED_BY=LBUCHLER                                  -0.080659\n",
        "CREATED_BY=APIETRAHITA                               -0.075515\n",
        "OWNER_GROUP=NALA Elite                               -0.074640\n",
        "CREATED_BY=LQUINTANILLA                              -0.074110\n",
        "OWNER_GROUP=China TSC                                -0.072870\n",
        "GLOBAL_REGION=SOUTH AMERICA                          -0.068891\n",
        "COVERAGE_TYPE=4HRDepot                               -0.068718\n",
        "PROBLEM_TYPE=Video Issue                             -0.066308\n",
        "CREATED_BY=SFRANKLIN                                 -0.064759\n",
        "CREATED_BY=SGIBSON                                   -0.062822\n",
        "CREATED_BY=DBERNA                                    -0.061769\n",
        "CREATED_BY=ECHAREST                                  -0.060915\n",
        "COVERAGE_TYPE=Prem                                   -0.060749\n",
        "PROBLEM_TYPE=Unknown                                 -0.060078\n",
        "PROBLEM_TYPE=CRESTRON: CONTROL SYSTEM ISSUE          -0.059289\n",
        "PROBLEM_TYPE=Software                                -0.057602\n",
        "REASON_TYPE=BLANK                                    -0.057069\n",
        "CREATED_BY=AGRAY                                     -0.051276\n",
        "CREATED_BY=IREGO                                     -0.049324\n",
        "CREATED_BY=DCABRERA                                  -0.049054\n",
        "COVERAGE_TYPE=ENTAGR                                 -0.048170\n",
        "CREATED_BY=MMINAN                                    -0.045024\n",
        "SYMPTOM_DESCRIPTION=Damaged Cable or Cord            -0.041162\n",
        "CREATED_BY=CCHOW                                     -0.037501\n",
        "PROBLEM_TYPE=Touch control unit issue                -0.036200\n",
        "CREATED_BY=KFORAN                                    -0.029855\n",
        "CREATED_BY=BRPORTER                                  -0.029717\n",
        "CREATED_BY=AKOVALENKO                                -0.029117\n",
        "CREATED_BY=AANOBLE                                   -0.025603\n",
        "CREATED_BY=GYEW                                      -0.023844\n",
        "CREATED_BY=THUFFMAN                                  -0.021936\n",
        "CREATED_BY=ARAM                                      -0.018975\n",
        "CREATED_BY=RSCUDDER                                  -0.018354\n",
        "CREATED_BY=DSCISCI                                   -0.007183\n",
        "SYMPTOM_DESCRIPTION=BLANK                            -0.006686\n",
        "CREATED_BY=JCOLTON                                   -0.005318\n",
        "PRODUCT_LINE=HDX 4002                                -0.004700\n",
        "RMA_TYPE=01 - Repair&Return                          -0.003839\n",
        "CREATED_BY=JIKIM                                     -0.000320\n",
        "CREATED_BY=FLAZEROW                                  -0.000303\n",
        "NDF                                                   0.000000\n",
        "SYMPTOM_DESCRIPTION=Input issue / Bad input port      0.007174\n",
        "PROBLEM_TYPE=Video quality issue                      0.011904\n",
        "CREATED_BY=KCUPP                                      0.012280\n",
        "SYMPTOM_DESCRIPTION=Hardware Failure                  0.016304\n",
        "CREATED_BY=JMONKAM                                    0.028157\n",
        "COVERAGE_TYPE=Standard                                0.032674\n",
        "PROBLEM_TYPE=Obtain or use of software key            0.033774\n",
        "PROBLEM_TYPE=Hardware Failure                         0.039253\n",
        "PROBLEM_TYPE=Software Issue                           0.039753\n",
        "CREATED_BY=JDELEON                                    0.043797\n",
        "COVERAGE_TYPE=NEWR                                    0.044064\n",
        "PROBLEM_TYPE=CONTENT: LCD MONITOR ISSUE               0.053963\n",
        "CREATED_BY=EMONTGOMERY                                0.054121\n",
        "COVERAGE_TYPE=IWEE                                    0.054186\n",
        "PROBLEM_TYPE=Admin question (RMA, entitle)            0.057627\n",
        "CREATED_BY=LSWABY                                     0.057971\n",
        "OWNER_GROUP=APAC CC                                   0.058479\n",
        "PROBLEM_TYPE=Microphone Issue                         0.059111\n",
        "SYMPTOM_DESCRIPTION=Blue screen                       0.062930\n",
        "CREATED_BY=YRWANG                                     0.073857\n",
        "CREATED_BY=ACOPELAND                                  0.075932\n",
        "CREATED_BY=KFUNIKOV                                   0.076232\n",
        "PRODUCT_LINE=HDX 8006                                 0.077664\n",
        "CREATED_BY=MLAW                                       0.077765\n",
        "OWNER_GROUP=EMEA Elite                                0.078109\n",
        "CREATED_BY=PFRANCO                                    0.081977\n",
        "PROBLEM_TYPE=Product unexpectedly restarts            0.082790\n",
        "CREATED_BY=ZCHEN                                      0.083653\n",
        "CREATED_BY=NDELGADO                                   0.091833\n",
        "CREATED_BY=TMYSYK                                     0.095789\n",
        "PRODUCT_LINE=HDX 8004                                 0.098051\n",
        "CREATED_BY=JMARTINS                                   0.101562\n",
        "COVERAGE_TYPE=SSN                                     0.104320\n",
        "OWNER_GROUP=NALA Escalation                           0.108231\n",
        "PROBLEM_TYPE=HDX CODEC: NO BOOT                       0.109588\n",
        "CREATED_BY=MCARY                                      0.113849\n",
        "PRODUCT_LINE=HDX 7006                                 0.129702\n",
        "CREATED_BY=DNGUYEN                                    0.130760\n",
        "CREATED_BY=CCHESTER                                   0.131576\n",
        "PROBLEM_TYPE=Web UI related issue                     0.132228\n",
        "CREATED_BY=SKOENIG                                    0.134856\n",
        "CREATED_BY=ASOSTIZZO                                  0.140026\n",
        "PROBLEM_TYPE=Unable to see or share content           0.140083\n",
        "COVERAGE_TYPE=PremPlus                                0.140825\n",
        "PROBLEM_TYPE=Other                                    0.145498\n",
        "CREATED_BY=BJUNG                                      0.147446\n",
        "CREATED_BY=PLOVELACE                                  0.151590\n",
        "PROBLEM_TYPE=Polycom Touch Control                    0.155333\n",
        "PROBLEM_TYPE=Product will stop responding (           0.165724\n",
        "CREATED_BY=SFORRESTER                                 0.168954\n",
        "PROBLEM_TYPE=No Boot/Reboots                          0.172902\n",
        "OWNER_GROUP=India TSC                                 0.173393\n",
        "CREATED_BY=DANNIS                                     0.174163\n",
        "CREATED_BY=KPALMORE                                   0.175018\n",
        "CREATED_BY=PLOCKETT                                   0.177018\n",
        "CREATED_BY=JHORWATH                                   0.177322\n",
        "CREATED_BY=ITORRIE                                    0.183354\n",
        "CREATED_BY=BLAI                                       0.187048\n",
        "COVERAGE_TYPE=ENTWAR                                  0.187224\n",
        "CREATED_BY=LANTONUCCI                                 0.187710\n",
        "PROBLEM_TYPE=Product technical information            0.188099\n",
        "PROBLEM_TYPE=Audio (routing) Issue                    0.191034\n",
        "CREATED_BY=BVOLTERO                                   0.191110\n",
        "SYMPTOM_DESCRIPTION=Fan noise / other noise           0.192613\n",
        "CREATED_BY=DTORTORELLI                                0.193785\n",
        "OWNER_GROUP=NALA PGS Ops                              0.198892\n",
        "CREATED_BY=NVENDA                                     0.198926\n",
        "CREATED_BY=CPATRICK                                   0.199702\n",
        "CREATED_BY=PTULIK                                     0.212886\n",
        "CREATED_BY=BTAYLOR                                    0.216488\n",
        "CREATED_BY=MWALLIS                                    0.216567\n",
        "PROBLEM_TYPE=Interoperability                         0.217741\n",
        "PROBLEM_TYPE=Interop 3rd Party                        0.219383\n",
        "CREATED_BY=DELLIOTT                                   0.220617\n",
        "CREATED_BY=LDUROC                                     0.221664\n",
        "CREATED_BY=JADMIRE                                    0.231166\n",
        "PROBLEM_TYPE=Configuration                            0.236749\n",
        "PROBLEM_TYPE=CAMERA: ALIGNMENT                        0.237827\n",
        "PROBLEM_TYPE=Device Management                        0.240311\n",
        "CREATED_BY=SSULAIMAN                                  0.243816\n",
        "GLOBAL_REGION=EMEA                                    0.249200\n",
        "CREATED_BY=JMEAD                                      0.249845\n",
        "CREATED_BY=DCLARK                                     0.252481\n",
        "CREATED_BY=ISIQUEIRA                                  0.261067\n",
        "CREATED_BY=RWARD                                      0.262549\n",
        "RMA_TYPE=00 - Advance Exchange                        0.263779\n",
        "PRODUCT_LINE=HDX 9006                                 0.267815\n",
        "OWNER_GROUP=EMEA 3rd Party                            0.268092\n",
        "CREATED_BY=JZACHARKO                                  0.270804\n",
        "SYMPTOM_DESCRIPTION=LCD Blank/Missing lines           0.272142\n",
        "PROBLEM_TYPE=PROJECTOR: ALIGNMENT                     0.275152\n",
        "PROBLEM_TYPE=Upgraded Software                        0.275805\n",
        "CREATED_BY=BCROMWELL                                  0.280876\n",
        "CREATED_BY=AXSCHMIDT                                  0.280951\n",
        "PROBLEM_TYPE=HDX CODEC: HDW FAILURE                   0.285579\n",
        "CREATED_BY=CFIANDACA                                  0.285886\n",
        "CREATED_BY=MCUPP                                      0.286098\n",
        "PROBLEM_TYPE=CFS Issue                                0.287796\n",
        "CREATED_BY=MGOLOMBEK                                  0.288381\n",
        "CREATED_BY=JJAYAMANY                                  0.291552\n",
        "CREATED_BY=HKAMADA                                    0.291997\n",
        "CREATED_BY=RBAUWENS                                   0.295646\n",
        "CREATED_BY=AKING                                      0.297266\n",
        "CREATED_BY=MSHAH                                      0.298974\n",
        "SYMPTOM_DESCRIPTION=Reverts back to OOB / Software    0.300712\n",
        "CREATED_BY=CROGERS                                    0.309393\n",
        "CREATED_BY=WETAN                                      0.311685\n",
        "CREATED_BY=GRAHAMG                                    0.312246\n",
        "COVERAGE_TYPE=NBDAM                                   0.315201\n",
        "CREATED_BY=BCAI                                       0.330337\n",
        "CREATED_BY=YYAZAWA                                    0.331223\n",
        "CREATED_BY=FKOUEDAN                                   0.337180\n",
        "PROBLEM_TYPE=Audio quality issue                      0.340331\n",
        "CREATED_BY=KSTEVENS                                   0.348179\n",
        "CREATED_BY=MAJONES                                    0.350379\n",
        "CREATED_BY=LNASIR                                     0.350530\n",
        "CREATED_BY=NBACHOFER                                  0.352067\n",
        "GLOBAL_REGION=NORTH AMERICA                           0.355889\n",
        "CREATED_BY=KGERTLER                                   0.359288\n",
        "CREATED_BY=JLAKE                                      0.359616\n",
        "CREATED_BY=CADAMS                                     0.367144\n",
        "OWNER_GROUP=CMS T3 SysOps                             0.372802\n",
        "CREATED_BY=XLWANG                                     0.373534\n",
        "CREATED_BY=JMARQUES                                   0.390725\n",
        "REASON_TYPE=Diagnostic iss                            0.397535\n",
        "CREATED_BY=AVELASQUEZ                                 0.397599\n",
        "PROBLEM_TYPE=Gatekeeper registration                  0.413388\n",
        "CREATED_BY=DKREHNBRINK                                0.413700\n",
        "PROBLEM_TYPE=CONTENT: NEAR/FAR ISSUE                  0.417469\n",
        "CREATED_BY=ZCHUANG                                    0.417745\n",
        "CREATED_BY=MKUSKIE                                    0.418209\n",
        "OWNER_GROUP=APAC Escalation                           0.419683\n",
        "PROBLEM_TYPE=Database connection or migrati           0.425342\n",
        "PROBLEM_TYPE=RMA Status/Question                      0.429357\n",
        "CREATED_BY=JORE                                       0.430060\n",
        "CREATED_BY=GYANG                                      0.432836\n",
        "CREATED_BY=YHYANG                                     0.434965\n",
        "CREATED_BY=AMULLER                                    0.437101\n",
        "CREATED_BY=JHDU                                       0.439929\n",
        "CREATED_BY=LCABRERA                                   0.440402\n",
        "PROBLEM_TYPE=Device management or monitor             0.443017\n",
        "PROBLEM_TYPE=Poor Video                               0.448695\n",
        "CREATED_BY=SCORDRAY                                   0.449639\n",
        "OWNER_GROUP=NALA Engagement                           0.449639\n",
        "PROBLEM_TYPE=ITP suite unreachable                    0.453438\n",
        "CREATED_BY=VANFU                                      0.454059\n",
        "PROBLEM_TYPE=Product feature configuration            0.456344\n",
        "CREATED_BY=CHEALY                                     0.461986\n",
        "SYMPTOM_DESCRIPTION=Camera Failure                    0.465657\n",
        "CREATED_BY=PDOW                                       0.473427\n",
        "PROBLEM_TYPE=Web/ UI Issue                            0.473988\n",
        "CREATED_BY=BADMIRE                                    0.475685\n",
        "CREATED_BY=BSPRAGGINS                                 0.478974\n",
        "CREATED_BY=LGOPALA                                    0.480409\n",
        "SYMPTOM_DESCRIPTION=Poor Audio Quality                0.480567\n",
        "CREATED_BY=DSHERN                                     0.484863\n",
        "PRODUCT_LINE=HDX 7000                                 0.488439\n",
        "PROBLEM_TYPE=Not connectiing or drops                 0.492189\n",
        "SYMPTOM_DESCRIPTION=ISDN Issue                        0.499116\n",
        "COVERAGE_TYPE=Warranty                                0.508192\n",
        "OWNER_GROUP=ROA TSC                                   0.531163\n",
        "CREATED_BY=AFISHER                                    0.542370\n",
        "CREATED_BY=TMOTOYOSHI                                 0.571023\n",
        "PROBLEM_TYPE=PREVENTATIVE MAINTENANCE                 0.581017\n",
        "PROBLEM_TYPE=Call Failure                             0.592558\n",
        "PROBLEM_TYPE=Security settings and profiles           0.592841\n",
        "CREATED_BY=BDUBE                                      0.600962\n",
        "SYMPTOM_DESCRIPTION=No IR                             0.614101\n",
        "CREATED_BY=SKELLNER                                   0.626773\n",
        "COVERAGE_TYPE=RMA DOA                                 0.634960\n",
        "REASON_TYPE=Customer Sat                              0.643874\n",
        "CREATED_BY=Unspecified                                0.645430\n",
        "PRODUCT_LINE=HDX 4500                                 0.646949\n",
        "CREATED_BY=KHJO                                       0.659959\n",
        "CREATED_BY=BROSE                                      0.660688\n",
        "CREATED_BY=DSANTOS                                    0.671916\n",
        "OWNER_GROUP=Japan TSC                                 0.673637\n",
        "CREATED_BY=AHASSAN                                    0.700912\n",
        "SYMPTOM_DESCRIPTION=Mica port failure                 0.701324\n",
        "PROBLEM_TYPE=API Issue                                0.706976\n",
        "PRODUCT_LINE=HDX 4000 HD                              0.745316\n",
        "CREATED_BY=ICOOK                                      0.745554\n",
        "CREATED_BY=GARNOTT                                    0.751551\n",
        "CREATED_BY=CYAO                                       0.758382\n",
        "CREATED_BY=SPARK                                      0.759791\n",
        "CREATED_BY=BHEFFERN                                   0.777870\n",
        "CREATED_BY=BYAO                                       0.783440\n",
        "SYMPTOM_DESCRIPTION=No PTZ                            0.791732\n",
        "PROBLEM_TYPE=Question                                 0.801847\n",
        "OWNER_GROUP=HP OMC                                    0.804096\n",
        "CREATED_BY=AHASEGAWA                                  0.823103\n",
        "OWNER_GROUP=EMEA Escalation                           0.831064\n",
        "PROBLEM_TYPE=Audio Issue                              0.851046\n",
        "CREATED_BY=KVEYS                                      0.853270\n",
        "CREATED_BY=RDHOEMAN                                   0.883484\n",
        "CREATED_BY=PGARCIA                                    0.895106\n",
        "COVERAGE_TYPE=New Inst                                0.923924\n",
        "SYMPTOM_DESCRIPTION=Camera Color Issue                1.060135\n",
        "PROBLEM_TYPE=Content/H.239/VC                         1.062087\n",
        "CREATED_BY=CCISNEROS                                  1.063845\n",
        "PRODUCT_LINE=HDX 4003                                 1.071913\n",
        "CREATED_BY=AHARRIS                                    1.127425\n",
        "CREATED_BY=RJANIS                                     1.141029\n",
        "CREATED_BY=TRZHOU                                     1.193891\n",
        "CREATED_BY=RWELLER                                    1.209485\n",
        "CREATED_BY=CBURMASTER                                 1.326468\n",
        "CREATED_BY=CHJOHNSON                                  1.794452\n",
        "Length: 449, dtype: float64\n"
       ]
      }
     ],
     "prompt_number": 44
    },
    {
     "cell_type": "code",
     "collapsed": false,
     "input": [
      "s = dv.transform(df1_full_tst_x.T.to_dict().values())"
     ],
     "language": "python",
     "metadata": {},
     "outputs": [],
     "prompt_number": 45
    },
    {
     "cell_type": "code",
     "collapsed": false,
     "input": [
      "print s.shape\n",
      "print s[0]"
     ],
     "language": "python",
     "metadata": {},
     "outputs": [
      {
       "output_type": "stream",
       "stream": "stdout",
       "text": [
        "(7206, 449)\n",
        "  (0, 416)\t1.0\n",
        "  (0, 437)\t1.0\n",
        "  (0, 280)\t1.0\n",
        "  (0, 401)\t1.0\n",
        "  (0, 16)\t1.0\n",
        "  (0, 304)\t0.0\n",
        "  (0, 269)\t1.0\n",
        "  (0, 375)\t1.0\n",
        "  (0, 418)\t1.0\n"
       ]
      }
     ],
     "prompt_number": 46
    },
    {
     "cell_type": "code",
     "collapsed": false,
     "input": [
      "len(df1_full_tst_x)"
     ],
     "language": "python",
     "metadata": {},
     "outputs": [
      {
       "metadata": {},
       "output_type": "pyout",
       "prompt_number": 47,
       "text": [
        "7206"
       ]
      }
     ],
     "prompt_number": 47
    },
    {
     "cell_type": "code",
     "collapsed": false,
     "input": [
      "LR.predict(s)"
     ],
     "language": "python",
     "metadata": {},
     "outputs": [
      {
       "metadata": {},
       "output_type": "pyout",
       "prompt_number": 48,
       "text": [
        "array([True, False, True, ..., False, False, False], dtype=object)"
       ]
      }
     ],
     "prompt_number": 48
    },
    {
     "cell_type": "code",
     "collapsed": false,
     "input": [
      "df1_full_tst.NDF[1]"
     ],
     "language": "python",
     "metadata": {},
     "outputs": [
      {
       "metadata": {},
       "output_type": "pyout",
       "prompt_number": 49,
       "text": [
        "True"
       ]
      }
     ],
     "prompt_number": 49
    },
    {
     "cell_type": "code",
     "collapsed": false,
     "input": [
      "corr = 0\n",
      "incorr = 0\n",
      "for i in range(len(df1_full_tst_x)):\n",
      "    if LR.predict(s)[i] == df1_full_tst.NDF[i]:\n",
      "        corr += 1\n",
      "        flag = 1\n",
      "    else:\n",
      "        incorr +=1\n",
      "        flag = 0\n",
      "    \n",
      "   # print str(LR.predict(s)[i]) + \"\\t\" + str(df1_full_tst.NDF[i]) + \"\\t\" + str(flag)"
     ],
     "language": "python",
     "metadata": {},
     "outputs": [],
     "prompt_number": 61
    },
    {
     "cell_type": "code",
     "collapsed": false,
     "input": [
      "accu = corr/(corr + incorr)\n",
      "accu"
     ],
     "language": "python",
     "metadata": {},
     "outputs": [
      {
       "metadata": {},
       "output_type": "pyout",
       "prompt_number": 62,
       "text": [
        "0.670691090757702"
       ]
      }
     ],
     "prompt_number": 62
    },
    {
     "cell_type": "code",
     "collapsed": false,
     "input": [
      "df1_full_tst.NDF.value_counts()"
     ],
     "language": "python",
     "metadata": {},
     "outputs": [
      {
       "metadata": {},
       "output_type": "pyout",
       "prompt_number": 63,
       "text": [
        "False    4389\n",
        "True     2817\n",
        "dtype: int64"
       ]
      }
     ],
     "prompt_number": 63
    },
    {
     "cell_type": "code",
     "collapsed": false,
     "input": [
      "from sklearn.metrics import classification_report\n",
      "\n",
      "y_true, y_pred = df1_full_tst.NDF, LR.predict(s)"
     ],
     "language": "python",
     "metadata": {},
     "outputs": [],
     "prompt_number": 53
    },
    {
     "cell_type": "code",
     "collapsed": false,
     "input": [
      "print type(y_pred)\n",
      "type(y_true)"
     ],
     "language": "python",
     "metadata": {},
     "outputs": [
      {
       "output_type": "stream",
       "stream": "stdout",
       "text": [
        "<type 'numpy.ndarray'>\n"
       ]
      },
      {
       "metadata": {},
       "output_type": "pyout",
       "prompt_number": 67,
       "text": [
        "pandas.core.series.Series"
       ]
      }
     ],
     "prompt_number": 67
    },
    {
     "cell_type": "code",
     "collapsed": false,
     "input": [
      "print(classification_report(numpy.asarray(y_true, dtype=\"|S600\"), numpy.asarray(pd.Series(y_pred), dtype=\"|S600\")))"
     ],
     "language": "python",
     "metadata": {},
     "outputs": [
      {
       "output_type": "stream",
       "stream": "stdout",
       "text": [
        "             precision    recall  f1-score   support\n",
        "\n",
        "      False       0.70      0.80      0.75      4389\n",
        "       True       0.60      0.47      0.52      2817\n",
        "\n",
        "avg / total       0.66      0.67      0.66      7206\n",
        "\n"
       ]
      }
     ],
     "prompt_number": 72
    },
    {
     "cell_type": "code",
     "collapsed": false,
     "input": [],
     "language": "python",
     "metadata": {},
     "outputs": [],
     "prompt_number": 72
    },
    {
     "cell_type": "code",
     "collapsed": false,
     "input": [],
     "language": "python",
     "metadata": {},
     "outputs": [],
     "prompt_number": 72
    },
    {
     "cell_type": "code",
     "collapsed": false,
     "input": [],
     "language": "python",
     "metadata": {},
     "outputs": []
    }
   ],
   "metadata": {}
  }
 ]
}