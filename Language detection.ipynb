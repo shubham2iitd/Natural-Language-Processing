{
 "metadata": {
  "name": ""
 },
 "nbformat": 3,
 "nbformat_minor": 0,
 "worksheets": [
  {
   "cells": [
    {
     "cell_type": "code",
     "collapsed": false,
     "input": [
      "import pandas as pd\n",
      "import nltk"
     ],
     "language": "python",
     "metadata": {},
     "outputs": [],
     "prompt_number": 12
    },
    {
     "cell_type": "code",
     "collapsed": false,
     "input": [
      "from nltk import wordpunct_tokenize\n",
      "from nltk.corpus import stopwords"
     ],
     "language": "python",
     "metadata": {},
     "outputs": [],
     "prompt_number": 13
    },
    {
     "cell_type": "code",
     "collapsed": false,
     "input": [
      "def _calculate_languages_ratios(text):\n",
      "    \n",
      "    languages_ratios = {}\n",
      "    \n",
      "    tokens = wordpunct_tokenize(text)\n",
      "    words = [word.lower() for word in tokens]\n",
      "    \n",
      "# Compute per language included in nltk number of unique stopwords appearing in analyzed text\n",
      "\n",
      "    for language in stopwords.fileids():\n",
      "        stopwords_set = set(stopwords.words(language))\n",
      "        words_set = set(words)\n",
      "        common_elements = words_set.intersection(stopwords_set)\n",
      "\n",
      "        languages_ratios[language] = len(common_elements) # language \"score\"\n",
      "\n",
      "    return languages_ratios"
     ],
     "language": "python",
     "metadata": {},
     "outputs": [],
     "prompt_number": 14
    },
    {
     "cell_type": "code",
     "collapsed": false,
     "input": [
      "def detect_language(text):\n",
      "    ratios = _calculate_languages_ratios(text)\n",
      "    ret_value = ''\n",
      "    \n",
      "#    print 'Ratios', ratios\n",
      "\n",
      "    most_rated_language = max(ratios, key = ratios.get)\n",
      "    \n",
      "    max_val = ratios.get(most_rated_language, 0)\n",
      "    \n",
      "    if (max_val >= 5):\n",
      "        ret_value = most_rated_language\n",
      "\n",
      "    return ret_value"
     ],
     "language": "python",
     "metadata": {},
     "outputs": [],
     "prompt_number": 15
    },
    {
     "cell_type": "code",
     "collapsed": false,
     "input": [
      "DF = pd.read_csv(\"S:\\Projects\\Automation- DELL\\eSupport compiled 1st ocuurance_v1.txt\",sep = \"\\t\")\n",
      "DF[\"free_text\"] = DF.apply(lambda x: str(x[\"CUSTOMER_SAID\"]) +\" \"+str(x[\"SOLUTIONSTEPS\"])+\" \"+str(x[\"Agent_Description\"])+\" \"+str(x[\"Notes\"]),1)\n",
      "#+\"|\"+str(x[\"DIAGNOSIS_TIER1\"])+\"|\"+str(x[\"DIAGNOSIS_TIER2\"])+\"|\"+str(x[\"DIAGNOSIS_TIER3\"])+\"|\"+str(x[\"DIAGNOSIS_TIER4\"])\n",
      "DF.drop([\"CUSTOMER_SAID\",\"SOLUTIONSTEPS\",\"Agent_Description\",\"Notes\"],1)\n",
      "DF[\"free_text\"] = DF.free_text.str.lower()"
     ],
     "language": "python",
     "metadata": {},
     "outputs": [],
     "prompt_number": 16
    },
    {
     "cell_type": "code",
     "collapsed": false,
     "input": [
      "DF[\"free_text\"][119]"
     ],
     "language": "python",
     "metadata": {},
     "outputs": [
      {
       "metadata": {},
       "output_type": "pyout",
       "prompt_number": 17,
       "text": [
        "'issue of win actiavted servcei tag 2502009541inspiron 3521name aakash singhemail no@email.com cx not usign any email id /akashrajawat42@gmail.compriamry 9589882604alter n/abttr 11.00 1.00co browse yes win 8 64 bit cx said issue of driver soltuion steps cx said that he want drive nan nan'"
       ]
      }
     ],
     "prompt_number": 17
    },
    {
     "cell_type": "code",
     "collapsed": false,
     "input": [
      "for i in range(20):\n",
      "    language = detect_language(DF[\"free_text\"][i])\n",
      "    print language"
     ],
     "language": "python",
     "metadata": {},
     "outputs": [
      {
       "ename": "AttributeError",
       "evalue": "'NoneType' object has no attribute 'get'",
       "output_type": "pyerr",
       "traceback": [
        "\u001b[1;31m---------------------------------------------------------------------------\u001b[0m\n\u001b[1;31mAttributeError\u001b[0m                            Traceback (most recent call last)",
        "\u001b[1;32m<ipython-input-84-97577ca5d3d8>\u001b[0m in \u001b[0;36m<module>\u001b[1;34m()\u001b[0m\n\u001b[0;32m      1\u001b[0m \u001b[1;32mfor\u001b[0m \u001b[0mi\u001b[0m \u001b[1;32min\u001b[0m \u001b[0mrange\u001b[0m\u001b[1;33m(\u001b[0m\u001b[1;36m20\u001b[0m\u001b[1;33m)\u001b[0m\u001b[1;33m:\u001b[0m\u001b[1;33m\u001b[0m\u001b[0m\n\u001b[1;32m----> 2\u001b[1;33m     \u001b[0mlanguage\u001b[0m \u001b[1;33m=\u001b[0m \u001b[0mdetect_language\u001b[0m\u001b[1;33m(\u001b[0m\u001b[0mDF\u001b[0m\u001b[1;33m[\u001b[0m\u001b[1;34m\"free_text\"\u001b[0m\u001b[1;33m]\u001b[0m\u001b[1;33m[\u001b[0m\u001b[0mi\u001b[0m\u001b[1;33m]\u001b[0m\u001b[1;33m)\u001b[0m\u001b[1;33m\u001b[0m\u001b[0m\n\u001b[0m\u001b[0;32m      3\u001b[0m     \u001b[1;32mprint\u001b[0m \u001b[0mlanguage\u001b[0m\u001b[1;33m\u001b[0m\u001b[0m\n",
        "\u001b[1;32m<ipython-input-82-dc325eb97737>\u001b[0m in \u001b[0;36mdetect_language\u001b[1;34m(text)\u001b[0m\n\u001b[0;32m      5\u001b[0m     \u001b[1;32mprint\u001b[0m \u001b[1;34m'Ratios'\u001b[0m\u001b[1;33m,\u001b[0m \u001b[0mratios\u001b[0m\u001b[1;33m\u001b[0m\u001b[0m\n\u001b[0;32m      6\u001b[0m \u001b[1;33m\u001b[0m\u001b[0m\n\u001b[1;32m----> 7\u001b[1;33m     \u001b[0mmost_rated_language\u001b[0m \u001b[1;33m=\u001b[0m \u001b[0mmax\u001b[0m\u001b[1;33m(\u001b[0m\u001b[0mratios\u001b[0m\u001b[1;33m,\u001b[0m \u001b[0mkey\u001b[0m \u001b[1;33m=\u001b[0m \u001b[0mratios\u001b[0m\u001b[1;33m.\u001b[0m\u001b[0mget\u001b[0m\u001b[1;33m)\u001b[0m\u001b[1;33m\u001b[0m\u001b[0m\n\u001b[0m\u001b[0;32m      8\u001b[0m \u001b[1;33m\u001b[0m\u001b[0m\n\u001b[0;32m      9\u001b[0m     \u001b[0mmax_val\u001b[0m \u001b[1;33m=\u001b[0m \u001b[0mratios\u001b[0m\u001b[1;33m.\u001b[0m\u001b[0mget\u001b[0m\u001b[1;33m(\u001b[0m\u001b[0mmost_rated_language\u001b[0m\u001b[1;33m,\u001b[0m \u001b[1;36m0\u001b[0m\u001b[1;33m)\u001b[0m\u001b[1;33m\u001b[0m\u001b[0m\n",
        "\u001b[1;31mAttributeError\u001b[0m: 'NoneType' object has no attribute 'get'"
       ]
      },
      {
       "output_type": "stream",
       "stream": "stdout",
       "text": [
        "Ratios {'danish': 0, 'english': 12, 'dutch': 1}\n",
        "english\n",
        "Ratios {'danish': 4, 'english': 24, 'dutch': 1}\n",
        "english\n",
        "Ratios {'danish': 0, 'english': 12, 'dutch': 4}\n",
        "english\n",
        "Ratios {'danish': 0, 'english': 7, 'dutch': 0}\n",
        "english\n",
        "Ratios {'danish': 0, 'english': 12, 'dutch': 2}\n",
        "english\n",
        "Ratios {'danish': 1, 'english': 15, 'dutch': 1}\n",
        "english\n",
        "Ratios {'danish': 2, 'english': 24, 'dutch': 3}\n",
        "english\n",
        "Ratios {'danish': 1, 'english': 15, 'dutch': 0}\n",
        "english\n",
        "Ratios {'danish': 2, 'english': 24, 'dutch': 3}\n",
        "english\n",
        "Ratios None\n"
       ]
      }
     ],
     "prompt_number": 84
    },
    {
     "cell_type": "code",
     "collapsed": false,
     "input": [
      "stopwords.fileids()"
     ],
     "language": "python",
     "metadata": {},
     "outputs": [
      {
       "metadata": {},
       "output_type": "pyout",
       "prompt_number": 13,
       "text": [
        "['danish',\n",
        " 'dutch',\n",
        " 'english',\n",
        " 'finnish',\n",
        " 'french',\n",
        " 'german',\n",
        " 'hungarian',\n",
        " 'italian',\n",
        " 'norwegian',\n",
        " 'portuguese',\n",
        " 'russian',\n",
        " 'spanish',\n",
        " 'swedish',\n",
        " 'turkish']"
       ]
      }
     ],
     "prompt_number": 13
    },
    {
     "cell_type": "code",
     "collapsed": false,
     "input": [
      "import re, collections\n",
      "\n",
      "def words(text): return re.findall('[a-z]+', text) \n",
      "\n",
      "def train(features):\n",
      "    model = collections.defaultdict(lambda: 1)\n",
      "    print model\n",
      "    for f in features:\n",
      "        model[f] += 1\n",
      "    return model\n",
      "\n",
      "NWORDS = train(words(DF[\"free_text\"][19]))\n",
      "\n",
      "alphabet = 'abcdefghijklmnopqrstuvwxyz'\n",
      "\n",
      "def edits1(word):\n",
      "   splits     = [(word[:i], word[i:]) for i in range(len(word) + 1)]\n",
      "   deletes    = [a + b[1:] for a, b in splits if b]\n",
      "   transposes = [a + b[1] + b[0] + b[2:] for a, b in splits if len(b)>1]\n",
      "   replaces   = [a + c + b[1:] for a, b in splits for c in alphabet if b]\n",
      "   inserts    = [a + c + b     for a, b in splits for c in alphabet]\n",
      "   return set(deletes + transposes + replaces + inserts)\n",
      "\n",
      "def known_edits2(word):\n",
      "    return set(e2 for e1 in edits1(word) for e2 in edits1(e1) if e2 in NWORDS)\n",
      "\n",
      "def known(words): return set(w for w in words if w in NWORDS)\n",
      "\n",
      "def correct(word):\n",
      "    candidates = known([word]) or known(edits1(word)) or known_edits2(word) or [word]\n",
      "    return max(candidates, key=NWORDS.get)"
     ],
     "language": "python",
     "metadata": {},
     "outputs": [
      {
       "output_type": "stream",
       "stream": "stdout",
       "text": [
        "defaultdict(<function <lambda> at 0x0000000018043278>, {})\n"
       ]
      }
     ],
     "prompt_number": 47
    },
    {
     "cell_type": "code",
     "collapsed": false,
     "input": [
      "edits1(\"shubham\")"
     ],
     "language": "python",
     "metadata": {},
     "outputs": [
      {
       "metadata": {},
       "output_type": "pyout",
       "prompt_number": 46,
       "text": [
        "['ashubham',\n",
        " 'bshubham',\n",
        " 'cshubham',\n",
        " 'dshubham',\n",
        " 'eshubham',\n",
        " 'fshubham',\n",
        " 'gshubham',\n",
        " 'hshubham',\n",
        " 'ishubham',\n",
        " 'jshubham',\n",
        " 'kshubham',\n",
        " 'lshubham',\n",
        " 'mshubham',\n",
        " 'nshubham',\n",
        " 'oshubham',\n",
        " 'pshubham',\n",
        " 'qshubham',\n",
        " 'rshubham',\n",
        " 'sshubham',\n",
        " 'tshubham',\n",
        " 'ushubham',\n",
        " 'vshubham',\n",
        " 'wshubham',\n",
        " 'xshubham',\n",
        " 'yshubham',\n",
        " 'zshubham',\n",
        " 'sahubham',\n",
        " 'sbhubham',\n",
        " 'schubham',\n",
        " 'sdhubham',\n",
        " 'sehubham',\n",
        " 'sfhubham',\n",
        " 'sghubham',\n",
        " 'shhubham',\n",
        " 'sihubham',\n",
        " 'sjhubham',\n",
        " 'skhubham',\n",
        " 'slhubham',\n",
        " 'smhubham',\n",
        " 'snhubham',\n",
        " 'sohubham',\n",
        " 'sphubham',\n",
        " 'sqhubham',\n",
        " 'srhubham',\n",
        " 'sshubham',\n",
        " 'sthubham',\n",
        " 'suhubham',\n",
        " 'svhubham',\n",
        " 'swhubham',\n",
        " 'sxhubham',\n",
        " 'syhubham',\n",
        " 'szhubham',\n",
        " 'shaubham',\n",
        " 'shbubham',\n",
        " 'shcubham',\n",
        " 'shdubham',\n",
        " 'sheubham',\n",
        " 'shfubham',\n",
        " 'shgubham',\n",
        " 'shhubham',\n",
        " 'shiubham',\n",
        " 'shjubham',\n",
        " 'shkubham',\n",
        " 'shlubham',\n",
        " 'shmubham',\n",
        " 'shnubham',\n",
        " 'shoubham',\n",
        " 'shpubham',\n",
        " 'shqubham',\n",
        " 'shrubham',\n",
        " 'shsubham',\n",
        " 'shtubham',\n",
        " 'shuubham',\n",
        " 'shvubham',\n",
        " 'shwubham',\n",
        " 'shxubham',\n",
        " 'shyubham',\n",
        " 'shzubham',\n",
        " 'shuabham',\n",
        " 'shubbham',\n",
        " 'shucbham',\n",
        " 'shudbham',\n",
        " 'shuebham',\n",
        " 'shufbham',\n",
        " 'shugbham',\n",
        " 'shuhbham',\n",
        " 'shuibham',\n",
        " 'shujbham',\n",
        " 'shukbham',\n",
        " 'shulbham',\n",
        " 'shumbham',\n",
        " 'shunbham',\n",
        " 'shuobham',\n",
        " 'shupbham',\n",
        " 'shuqbham',\n",
        " 'shurbham',\n",
        " 'shusbham',\n",
        " 'shutbham',\n",
        " 'shuubham',\n",
        " 'shuvbham',\n",
        " 'shuwbham',\n",
        " 'shuxbham',\n",
        " 'shuybham',\n",
        " 'shuzbham',\n",
        " 'shubaham',\n",
        " 'shubbham',\n",
        " 'shubcham',\n",
        " 'shubdham',\n",
        " 'shubeham',\n",
        " 'shubfham',\n",
        " 'shubgham',\n",
        " 'shubhham',\n",
        " 'shubiham',\n",
        " 'shubjham',\n",
        " 'shubkham',\n",
        " 'shublham',\n",
        " 'shubmham',\n",
        " 'shubnham',\n",
        " 'shuboham',\n",
        " 'shubpham',\n",
        " 'shubqham',\n",
        " 'shubrham',\n",
        " 'shubsham',\n",
        " 'shubtham',\n",
        " 'shubuham',\n",
        " 'shubvham',\n",
        " 'shubwham',\n",
        " 'shubxham',\n",
        " 'shubyham',\n",
        " 'shubzham',\n",
        " 'shubhaam',\n",
        " 'shubhbam',\n",
        " 'shubhcam',\n",
        " 'shubhdam',\n",
        " 'shubheam',\n",
        " 'shubhfam',\n",
        " 'shubhgam',\n",
        " 'shubhham',\n",
        " 'shubhiam',\n",
        " 'shubhjam',\n",
        " 'shubhkam',\n",
        " 'shubhlam',\n",
        " 'shubhmam',\n",
        " 'shubhnam',\n",
        " 'shubhoam',\n",
        " 'shubhpam',\n",
        " 'shubhqam',\n",
        " 'shubhram',\n",
        " 'shubhsam',\n",
        " 'shubhtam',\n",
        " 'shubhuam',\n",
        " 'shubhvam',\n",
        " 'shubhwam',\n",
        " 'shubhxam',\n",
        " 'shubhyam',\n",
        " 'shubhzam',\n",
        " 'shubhaam',\n",
        " 'shubhabm',\n",
        " 'shubhacm',\n",
        " 'shubhadm',\n",
        " 'shubhaem',\n",
        " 'shubhafm',\n",
        " 'shubhagm',\n",
        " 'shubhahm',\n",
        " 'shubhaim',\n",
        " 'shubhajm',\n",
        " 'shubhakm',\n",
        " 'shubhalm',\n",
        " 'shubhamm',\n",
        " 'shubhanm',\n",
        " 'shubhaom',\n",
        " 'shubhapm',\n",
        " 'shubhaqm',\n",
        " 'shubharm',\n",
        " 'shubhasm',\n",
        " 'shubhatm',\n",
        " 'shubhaum',\n",
        " 'shubhavm',\n",
        " 'shubhawm',\n",
        " 'shubhaxm',\n",
        " 'shubhaym',\n",
        " 'shubhazm',\n",
        " 'shubhama',\n",
        " 'shubhamb',\n",
        " 'shubhamc',\n",
        " 'shubhamd',\n",
        " 'shubhame',\n",
        " 'shubhamf',\n",
        " 'shubhamg',\n",
        " 'shubhamh',\n",
        " 'shubhami',\n",
        " 'shubhamj',\n",
        " 'shubhamk',\n",
        " 'shubhaml',\n",
        " 'shubhamm',\n",
        " 'shubhamn',\n",
        " 'shubhamo',\n",
        " 'shubhamp',\n",
        " 'shubhamq',\n",
        " 'shubhamr',\n",
        " 'shubhams',\n",
        " 'shubhamt',\n",
        " 'shubhamu',\n",
        " 'shubhamv',\n",
        " 'shubhamw',\n",
        " 'shubhamx',\n",
        " 'shubhamy',\n",
        " 'shubhamz']"
       ]
      }
     ],
     "prompt_number": 46
    },
    {
     "cell_type": "code",
     "collapsed": false,
     "input": [
      "NWORDS"
     ],
     "language": "python",
     "metadata": {},
     "outputs": [
      {
       "metadata": {},
       "output_type": "pyout",
       "prompt_number": 36,
       "text": [
        "defaultdict(<function <lambda> at 0x0000000005EEA898>, {'and': 3, 'va': 2, 'windo': 2, 'nan': 2, 'win': 3, 'is': 5, 'cx': 5, 'done': 2, 'shooting': 2, 'id': 2, 'said': 3, 'support': 2, 'donebttr': 2, 'check': 2, 'maheshresolution': 2, 'to': 3, 'unable': 3, 'msg': 3, 'mail': 2, 'type': 2, 'pm': 3, 'core': 3, 'that': 3, 'estkana': 2, 'update': 5, 'kcs': 2, 'he': 3, 'donetrouble': 2, 'doneconsulted': 2, 'getting': 3, 'windows': 3, 'issue': 2, 'caller': 2, 'steps': 2, 'error': 3, 'fixed': 2, 'stating': 3})"
       ]
      }
     ],
     "prompt_number": 36
    },
    {
     "cell_type": "code",
     "collapsed": false,
     "input": [
      "DF[\"free_text\"][19]"
     ],
     "language": "python",
     "metadata": {},
     "outputs": [
      {
       "metadata": {},
       "output_type": "pyout",
       "prompt_number": 31,
       "text": [
        "'cx said:**core***cx is stating that he is unable to windows update and win8.1 update getting error msg: 80070103 cx said:**core***cx is stating that he is unable to windows update and win8.1 update getting error msg: 80070103kcs id:530178caller type:1va:donebttr:(7pm- 9pm)estkana mail:doneconsulted support:maheshresolution check:donetrouble shooting steps done :windo ****issue fixed*** nan'"
       ]
      }
     ],
     "prompt_number": 31
    },
    {
     "cell_type": "code",
     "collapsed": false,
     "input": [
      "correct(servcei)"
     ],
     "language": "python",
     "metadata": {},
     "outputs": [
      {
       "ename": "NameError",
       "evalue": "name 'servcei' is not defined",
       "output_type": "pyerr",
       "traceback": [
        "\u001b[1;31m---------------------------------------------------------------------------\u001b[0m\n\u001b[1;31mNameError\u001b[0m                                 Traceback (most recent call last)",
        "\u001b[1;32m<ipython-input-32-898e1d6012db>\u001b[0m in \u001b[0;36m<module>\u001b[1;34m()\u001b[0m\n\u001b[1;32m----> 1\u001b[1;33m \u001b[0mcorrect\u001b[0m\u001b[1;33m(\u001b[0m\u001b[0mservcei\u001b[0m\u001b[1;33m)\u001b[0m\u001b[1;33m\u001b[0m\u001b[0m\n\u001b[0m",
        "\u001b[1;31mNameError\u001b[0m: name 'servcei' is not defined"
       ]
      }
     ],
     "prompt_number": 32
    },
    {
     "cell_type": "code",
     "collapsed": false,
     "input": [
      "pip install pyenchant"
     ],
     "language": "python",
     "metadata": {},
     "outputs": [
      {
       "ename": "SyntaxError",
       "evalue": "invalid syntax (<ipython-input-50-6157f82cd8e1>, line 1)",
       "output_type": "pyerr",
       "traceback": [
        "\u001b[1;36m  File \u001b[1;32m\"<ipython-input-50-6157f82cd8e1>\"\u001b[1;36m, line \u001b[1;32m1\u001b[0m\n\u001b[1;33m    pip install pyenchant\u001b[0m\n\u001b[1;37m              ^\u001b[0m\n\u001b[1;31mSyntaxError\u001b[0m\u001b[1;31m:\u001b[0m invalid syntax\n"
       ]
      }
     ],
     "prompt_number": 50
    },
    {
     "cell_type": "code",
     "collapsed": false,
     "input": [
      "import enchant"
     ],
     "language": "python",
     "metadata": {},
     "outputs": [
      {
       "ename": "ImportError",
       "evalue": "No module named enchant",
       "output_type": "pyerr",
       "traceback": [
        "\u001b[1;31m---------------------------------------------------------------------------\u001b[0m\n\u001b[1;31mImportError\u001b[0m                               Traceback (most recent call last)",
        "\u001b[1;32m<ipython-input-49-be94a407aebb>\u001b[0m in \u001b[0;36m<module>\u001b[1;34m()\u001b[0m\n\u001b[1;32m----> 1\u001b[1;33m \u001b[1;32mimport\u001b[0m \u001b[0menchant\u001b[0m\u001b[1;33m\u001b[0m\u001b[0m\n\u001b[0m",
        "\u001b[1;31mImportError\u001b[0m: No module named enchant"
       ]
      }
     ],
     "prompt_number": 49
    },
    {
     "cell_type": "code",
     "collapsed": false,
     "input": [],
     "language": "python",
     "metadata": {},
     "outputs": []
    }
   ],
   "metadata": {}
  }
 ]
}